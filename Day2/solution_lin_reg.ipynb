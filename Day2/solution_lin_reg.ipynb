{
 "cells": [
  {
   "cell_type": "code",
   "execution_count": 1,
   "metadata": {},
   "outputs": [],
   "source": [
    "import numpy as np\n",
    "import pandas as pd\n",
    "import seaborn as sns\n",
    "import matplotlib.pyplot as plt\n",
    "%matplotlib inline"
   ]
  },
  {
   "cell_type": "markdown",
   "metadata": {},
   "source": [
    "# Dataset \n",
    "\n",
    "The following example is adapted from \\[1\\].  We would like to explore the relationship between topographic heterogeneity of a nation as measured by the Terrain Ruggedness Index (variable *rugged* in the dataset) and its GDP per capita. In particular, it was noted by the authors in \\[1\\] that terrain ruggedness or bad geography is related to poorer economic performance outside of Africa, but rugged terrains have had a reverse effect on income for African nations. Let us look at the data \\[2\\] and investigate this relationship.  We will be focusing on three features from the dataset:\n",
    "  - `rugged`: quantifies the Terrain Ruggedness Index\n",
    "  - `cont_africa`: whether the given nation is in Africa\n",
    "  - `rgdppc_2000`: Real GDP per capita for the year 2000\n",
    "  \n",
    "We will take the logarithm for the response variable GDP as it tends to vary exponentially."
   ]
  },
  {
   "cell_type": "code",
   "execution_count": 2,
   "metadata": {},
   "outputs": [],
   "source": [
    "DATA_URL = \"https://d2fefpcigoriu7.cloudfront.net/datasets/rugged_data.csv\"\n",
    "data = pd.read_csv(DATA_URL, encoding=\"ISO-8859-1\")\n",
    "df = data[[\"cont_africa\", \"rugged\", \"rgdppc_2000\"]]\n",
    "df = df[np.isfinite(df.rgdppc_2000)]\n",
    "df[\"rgdppc_2000\"] = np.log(df[\"rgdppc_2000\"])\n",
    "df[\"african_rugged\"] = data[\"cont_africa\"] * data[\"rugged\"]\n",
    "df = df[[\"cont_africa\", \"rugged\", \"african_rugged\", \"rgdppc_2000\"]]\n",
    "\n",
    "# Divide the data into poredictors and response and store the data in numpy arrays\n",
    "data = np.array(df)\n",
    "x_data = data[:, :-1]\n",
    "y_data = data[:, -1]"
   ]
  },
  {
   "cell_type": "code",
   "execution_count": 3,
   "metadata": {
    "scrolled": true
   },
   "outputs": [
    {
     "data": {
      "text/html": [
       "<div>\n",
       "<style scoped>\n",
       "    .dataframe tbody tr th:only-of-type {\n",
       "        vertical-align: middle;\n",
       "    }\n",
       "\n",
       "    .dataframe tbody tr th {\n",
       "        vertical-align: top;\n",
       "    }\n",
       "\n",
       "    .dataframe thead th {\n",
       "        text-align: right;\n",
       "    }\n",
       "</style>\n",
       "<table border=\"1\" class=\"dataframe\">\n",
       "  <thead>\n",
       "    <tr style=\"text-align: right;\">\n",
       "      <th></th>\n",
       "      <th>cont_africa</th>\n",
       "      <th>rugged</th>\n",
       "      <th>african_rugged</th>\n",
       "      <th>rgdppc_2000</th>\n",
       "    </tr>\n",
       "  </thead>\n",
       "  <tbody>\n",
       "    <tr>\n",
       "      <th>2</th>\n",
       "      <td>1</td>\n",
       "      <td>0.858</td>\n",
       "      <td>0.858</td>\n",
       "      <td>7.492609</td>\n",
       "    </tr>\n",
       "    <tr>\n",
       "      <th>4</th>\n",
       "      <td>0</td>\n",
       "      <td>3.427</td>\n",
       "      <td>0.000</td>\n",
       "      <td>8.216929</td>\n",
       "    </tr>\n",
       "    <tr>\n",
       "      <th>7</th>\n",
       "      <td>0</td>\n",
       "      <td>0.769</td>\n",
       "      <td>0.000</td>\n",
       "      <td>9.933263</td>\n",
       "    </tr>\n",
       "    <tr>\n",
       "      <th>8</th>\n",
       "      <td>0</td>\n",
       "      <td>0.775</td>\n",
       "      <td>0.000</td>\n",
       "      <td>9.407032</td>\n",
       "    </tr>\n",
       "    <tr>\n",
       "      <th>9</th>\n",
       "      <td>0</td>\n",
       "      <td>2.688</td>\n",
       "      <td>0.000</td>\n",
       "      <td>7.792343</td>\n",
       "    </tr>\n",
       "    <tr>\n",
       "      <th>11</th>\n",
       "      <td>0</td>\n",
       "      <td>0.006</td>\n",
       "      <td>0.000</td>\n",
       "      <td>9.212541</td>\n",
       "    </tr>\n",
       "    <tr>\n",
       "      <th>12</th>\n",
       "      <td>0</td>\n",
       "      <td>0.143</td>\n",
       "      <td>0.000</td>\n",
       "      <td>10.143191</td>\n",
       "    </tr>\n",
       "    <tr>\n",
       "      <th>13</th>\n",
       "      <td>0</td>\n",
       "      <td>3.513</td>\n",
       "      <td>0.000</td>\n",
       "      <td>10.274632</td>\n",
       "    </tr>\n",
       "    <tr>\n",
       "      <th>14</th>\n",
       "      <td>0</td>\n",
       "      <td>1.672</td>\n",
       "      <td>0.000</td>\n",
       "      <td>7.852028</td>\n",
       "    </tr>\n",
       "    <tr>\n",
       "      <th>15</th>\n",
       "      <td>1</td>\n",
       "      <td>1.780</td>\n",
       "      <td>1.780</td>\n",
       "      <td>6.432380</td>\n",
       "    </tr>\n",
       "  </tbody>\n",
       "</table>\n",
       "</div>"
      ],
      "text/plain": [
       "    cont_africa  rugged  african_rugged  rgdppc_2000\n",
       "2             1   0.858           0.858     7.492609\n",
       "4             0   3.427           0.000     8.216929\n",
       "7             0   0.769           0.000     9.933263\n",
       "8             0   0.775           0.000     9.407032\n",
       "9             0   2.688           0.000     7.792343\n",
       "11            0   0.006           0.000     9.212541\n",
       "12            0   0.143           0.000    10.143191\n",
       "13            0   3.513           0.000    10.274632\n",
       "14            0   1.672           0.000     7.852028\n",
       "15            1   1.780           1.780     6.432380"
      ]
     },
     "metadata": {},
     "output_type": "display_data"
    }
   ],
   "source": [
    "# Display first 10 entries \n",
    "display(df[0:10])"
   ]
  },
  {
   "cell_type": "markdown",
   "metadata": {},
   "source": [
    "# The model\n",
    "\n",
    "Following the approach from Day 1 we will model the data using a Bayesian linear regression model:\n",
    "<img src=\"Bayesian_linear_regression.png\" style=\"width: 300px;\"/>\n",
    "The quantitative part of the model is specified as: \n",
    "- Number of data dim: $M$\n",
    "- Number of data inst: $N$\n",
    "- $Y_{i}|\\{{\\bf w}, {\\bf x}_i, \\theta \\} \\sim \\mathcal{N}({\\bf w}^T{\\bf x}_i, 1/\\theta)$    \n",
    "- ${\\bf W} \\sim {\\mathcal N}({\\bf 0}, \\gamma_w^{-1}{\\bf I}_{M\\times M})$\n",
    "- $b\\sim {\\mathcal N}(0,\\gamma_b^{-1})$"
   ]
  },
  {
   "cell_type": "markdown",
   "metadata": {},
   "source": [
    "## Helper-routine: Calculate ELBO"
   ]
  },
  {
   "cell_type": "code",
   "execution_count": 4,
   "metadata": {},
   "outputs": [],
   "source": [
    "def calculate_ELBO(x_data, y_data, gamma_w, gamma_b, theta, q_w_mean, q_w_prec, q_b_mean, q_b_prec):\n",
    "    \"\"\"\n",
    "    Helper routine: Calculate ELBO. Data is the sampled x and y values, gamma is the prior precision over the \n",
    "    weights and theta is the prior precision associated with y. Everything prefixed a 'q' relates to the \n",
    "    variational posterior.\n",
    "    \n",
    "    Note: This function obviously only works for this particular model and is not a general solution.\n",
    "\n",
    "    :param x_data: The predictors\n",
    "    :param y_data: The response variable\n",
    "    :param gamma_w: prior precision for the weights\n",
    "    :param gamma_b: prior precision for the intercept\n",
    "    :param theta: prior precision for gamma\n",
    "    :param q_w_mean: VB posterior mean for the distribution of the weights w \n",
    "    :param q_w_prec: VB posterior precision for the distribution of the weights w \n",
    "    :param q_b_mean: VB posterior mean for the intercept b\n",
    "    :param q_b_prec: VB posterior precision for the intercept b\n",
    "    :return: the ELBO\n",
    "    \"\"\"\n",
    "    \n",
    "    # We calculate the ELBO as E_q log p(y,x,w,b) - E_q log q(w,b), where\n",
    "    # log p(y,x,w) = sum_i log p(y|x,w,b) + log p(w) + log p(b)\n",
    "    # log q(w,b) = log q(w) + log q(b)\n",
    "\n",
    "    M = x_data.shape[1]\n",
    "\n",
    "    # E_q log p(w)\n",
    "    E_log_p = -0.5 * M * np.log(2 * np.pi) + 0.5 * M * gamma_w - 0.5 * gamma_w * np.sum(np.diagonal(np.linalg.inv(q_w_prec))\n",
    "                                                                                    + (q_w_mean*q_w_mean).flatten())\n",
    "    # E_q log p(b)\n",
    "    E_log_p += -0.5 * np.log(2 * np.pi) + 0.5 * np.log(gamma_b) - 0.5 * gamma_b * (1/q_b_prec + q_b_mean**2)\n",
    "\n",
    "    # sum_i E_q log p(y|x,w,b)\n",
    "    E_w_w = np.linalg.inv(q_w_prec) + q_w_mean @ q_w_mean.transpose()\n",
    "    E_b_b = 1/q_b_prec + q_b_mean**2\n",
    "    for i in range(x_data.shape[0]):\n",
    "        E_x_ww_x = np.matmul(x_data[i, :].transpose(), np.matmul(E_w_w, x_data[i, :]))\n",
    "        E_log_p += -0.5 * np.log(2 * np.pi) + 0.5 * np.log(theta) \\\n",
    "                   - 0.5 * theta * (y_data[i]**2 + E_x_ww_x + E_b_b\n",
    "                                    + 2 * q_b_mean * np.matmul(q_w_mean.transpose(), x_data[i, :])\n",
    "                                    - 2 * y_data[i] * np.matmul(q_w_mean.transpose(), x_data[i,:])\n",
    "                                    - 2 * y_data[i] * q_b_mean)\n",
    "\n",
    "    # Entropy of q_b\n",
    "    ent = 0.5 * np.log(1 * np.pi * np.exp(1) / q_b_prec)\n",
    "    ent += 0.5 * np.log(np.linalg.det(2 * np.pi * np.exp(1) * np.linalg.inv(q_w_prec)))\n",
    "\n",
    "    return E_log_p - ent"
   ]
  },
  {
   "cell_type": "markdown",
   "metadata": {},
   "source": [
    "# Full mean field\n",
    "First we consider a full mean filed approach, where the variational approximation factorizes as\n",
    "$$\n",
    "q({\\bf w}, b) = q(b)\\prod _{i=1}^Mq(w_i)\n",
    "$$"
   ]
  },
  {
   "cell_type": "code",
   "execution_count": 7,
   "metadata": {},
   "outputs": [],
   "source": [
    "# The variational updating rule for weight component 'comp'\n",
    "def update_w_comp(x_data, y_data, gamma_w, theta, q_w_mean, q_w_prec, q_b_mean, comp):\n",
    "\n",
    "    # Lenght of weight vector\n",
    "    M = x_data.shape[1]\n",
    "    # The precision (a scalar)\n",
    "    Q = gamma_w\n",
    "    # The mean (a scalar)\n",
    "    mu = 0.0\n",
    "    for i in range(x_data.shape[0]):\n",
    "        Q += theta * x_data[i, comp]**2\n",
    "        mu += (y_data[i] - q_b_mean - (np.sum(x_data[i, :] @ q_w_mean) - x_data[i, comp]*q_w_mean[comp])) \\\n",
    "                * x_data[i, comp]\n",
    "    mu = theta * 1/Q * mu\n",
    "\n",
    "    # Update the appropriate entries in the mean vector and precision matrix\n",
    "    q_w_prec[comp, comp] = Q\n",
    "    q_w_mean[comp] = mu.item()\n",
    "\n",
    "    return q_w_prec, q_w_mean\n",
    "\n",
    "# The variational updating rule for the intercept\n",
    "def update_b(x_data, y_data, gamma_b, theta, q_w_mean):\n",
    "\n",
    "    # The precision (a scalar)\n",
    "    tau = (gamma_b + theta * x_data.shape[0])\n",
    "    # The mean (a scalar)\n",
    "    mu = 0\n",
    "    for i in range(x_data.shape[0]):\n",
    "        mu += (y_data[i] - q_w_mean.transpose() @ x_data[i, :])\n",
    "    mu = 1/tau * theta * mu\n",
    "\n",
    "    return tau, mu"
   ]
  },
  {
   "cell_type": "markdown",
   "metadata": {},
   "source": [
    "## Do the VB (full mean field)"
   ]
  },
  {
   "cell_type": "code",
   "execution_count": 8,
   "metadata": {},
   "outputs": [
    {
     "name": "stdout",
     "output_type": "stream",
     "text": [
      "\n",
      "====================================================================================================\n",
      "   VB iterations:\n",
      "====================================================================================================\n",
      "Iteration  0. ELBO: -1304.3584960\n",
      "Iteration  1. ELBO:  -794.1760344\n",
      "Iteration  2. ELBO:  -590.6058984\n",
      "Iteration  3. ELBO:  -464.0961215\n",
      "Iteration  4. ELBO:  -386.7093248\n",
      "Iteration  5. ELBO:  -340.1844781\n",
      "Iteration  6. ELBO:  -312.4962501\n",
      "Iteration  7. ELBO:  -296.1126849\n",
      "Iteration  8. ELBO:  -286.4496462\n",
      "Iteration  9. ELBO:  -280.7607753\n",
      "Iteration 10. ELBO:  -277.4150359\n",
      "Iteration 11. ELBO:  -275.4484770\n",
      "Iteration 12. ELBO:  -274.2929491\n",
      "Iteration 13. ELBO:  -273.6140981\n",
      "Iteration 14. ELBO:  -273.2153270\n",
      "Iteration 15. ELBO:  -272.9810942\n",
      "Iteration 16. ELBO:  -272.8435134\n",
      "Iteration 17. ELBO:  -272.7627044\n",
      "Iteration 18. ELBO:  -272.7152412\n",
      "Iteration 19. ELBO:  -272.6873638\n",
      "Iteration 20. ELBO:  -272.6709902\n",
      "Iteration 21. ELBO:  -272.6613732\n",
      "Iteration 22. ELBO:  -272.6557247\n",
      "Iteration 23. ELBO:  -272.6524071\n",
      "Iteration 24. ELBO:  -272.6504586\n",
      "Iteration 25. ELBO:  -272.6493141\n",
      "Iteration 26. ELBO:  -272.6486419\n",
      "Iteration 27. ELBO:  -272.6482471\n",
      "Iteration 28. ELBO:  -272.6480152\n",
      "Iteration 29. ELBO:  -272.6478790\n",
      "Iteration 30. ELBO:  -272.6477990\n",
      "Iteration 31. ELBO:  -272.6477520\n",
      "Iteration 32. ELBO:  -272.6477244\n",
      "Iteration 33. ELBO:  -272.6477082\n",
      "Iteration 34. ELBO:  -272.6476987\n",
      "Iteration 35. ELBO:  -272.6476931\n",
      "Iteration 36. ELBO:  -272.6476898\n",
      "Iteration 37. ELBO:  -272.6476879\n",
      "\n",
      "====================================================================================================\n",
      "\n"
     ]
    },
    {
     "data": {
      "text/plain": [
       "Text(0, 0.5, 'ELBO')"
      ]
     },
     "execution_count": 8,
     "metadata": {},
     "output_type": "execute_result"
    },
    {
     "data": {
      "image/png": "[encoded data removed]",
      "text/plain": [
       "<Figure size 432x288 with 1 Axes>"
      ]
     },
     "metadata": {
      "needs_background": "light"
     },
     "output_type": "display_data"
    }
   ],
   "source": [
    "# Initialize the variational distributions\n",
    "M = x_data.shape[1]\n",
    "gamma_w = 1\n",
    "gamma_b = 1\n",
    "theta = 1\n",
    "q_w_mean = np.random.normal(0, 1, (3, 1))\n",
    "q_w_prec = np.diag((1, 1, 1))\n",
    "q_b_mean = np.random.normal(0, 1)\n",
    "q_b_prec = 1\n",
    "elbos = []\n",
    "\n",
    "# Calculate ELBO\n",
    "this_lb = calculate_ELBO(x_data, y_data, gamma_w, gamma_b, theta, q_w_mean, q_w_prec, q_b_mean, q_b_prec)\n",
    "elbos.append(this_lb)\n",
    "previous_lb = -np.inf\n",
    "# Start iterating\n",
    "print(\"\\n\" + 100 * \"=\" + \"\\n   VB iterations:\\n\" + 100 * \"=\")\n",
    "for iteration in range(100):\n",
    "\n",
    "    # Update the variational distributions\n",
    "    for i in range(M):\n",
    "        q_w_prec, q_w_mean = update_w_comp(x_data, y_data, gamma_w, theta, q_w_mean, q_w_prec, q_b_mean, i)\n",
    "    q_b_prec, q_b_mean = update_b(x_data, y_data, gamma_b, theta, q_w_mean)\n",
    "\n",
    "    this_lb = calculate_ELBO(x_data, y_data, gamma_w, gamma_b, theta, q_w_mean, q_w_prec, q_b_mean, q_b_prec)\n",
    "    elbos.append(this_lb)\n",
    "    print(f\"Iteration {iteration:2d}. ELBO: {this_lb.item():13.7f}\")\n",
    "    if this_lb < previous_lb:\n",
    "        raise ValueError(\"ELBO is decreasing. Something is wrong! Goodbye...\")\n",
    "    \n",
    "    if iteration > 0 and np.abs((this_lb - previous_lb) / previous_lb) < 1E-8:\n",
    "        # Very little improvement. We are done.\n",
    "        break\n",
    "    \n",
    "    # If we didn't break we need to run again. Update the value for \"previous\"\n",
    "    previous_lb = this_lb\n",
    "print(\"\\n\" + 100 * \"=\" + \"\\n\")\n",
    "\n",
    "# Store the results\n",
    "w_mean_mf = q_w_mean\n",
    "w_prec_mf = q_w_prec\n",
    "b_mean_mf = q_b_mean\n",
    "b_prec_mf = q_b_prec\n",
    "\n",
    "plt.plot(range(len(elbos)), elbos)\n",
    "plt.xlabel('NUmber of iterations')\n",
    "plt.ylabel('ELBO')"
   ]
  },
  {
   "cell_type": "markdown",
   "metadata": {},
   "source": [
    "## Model evaluation\n",
    "\n",
    "To get a sense of the robustness of the model we draw samples from the posterior variational distributions over the weights and intercept; each sample correspond to a regression line"
   ]
  },
  {
   "cell_type": "code",
   "execution_count": 9,
   "metadata": {},
   "outputs": [
    {
     "data": {
      "image/png": "[encoded data removed]",
      "text/plain": [
       "<Figure size 864x432 with 2 Axes>"
      ]
     },
     "metadata": {
      "needs_background": "light"
     },
     "output_type": "display_data"
    }
   ],
   "source": [
    "fig, ax = plt.subplots(nrows=1, ncols=2, figsize=(12, 6), sharey=True)\n",
    "fig.suptitle(\"Uncertainty in Regression line \", fontsize=16)\n",
    "num_samples = 20\n",
    "\n",
    "ax[0].scatter(x_data[x_data[:,0]==0,1], y_data[x_data[:,0]==0])\n",
    "for _ in range(num_samples):\n",
    "    b_sample = np.random.normal(loc=q_b_mean, scale=1/np.sqrt(q_b_prec))\n",
    "    w_sample = np.random.multivariate_normal(mean=q_w_mean.flatten(), cov=np.linalg.inv(q_w_prec))\n",
    "    ax[0].plot(x_data[x_data[:,0]==0,1], (x_data[x_data[:,0]==0,:] @ w_sample)+b_sample, 'r-')\n",
    "ax[0].set(xlabel=\"Terrain Ruggedness Index\",\n",
    "          ylabel=\"log GDP (2000)\",\n",
    "          title=\"Non African Nations\")\n",
    "\n",
    "ax[1].scatter(x_data[x_data[:,0]==1,1], y_data[x_data[:,0]==1])\n",
    "for _ in range(num_samples):\n",
    "    b_sample = np.random.normal(loc=q_b_mean, scale=1/np.sqrt(q_b_prec))\n",
    "    w_sample = np.random.multivariate_normal(mean=q_w_mean.flatten(), cov=np.linalg.inv(q_w_prec))\n",
    "    ax[1].plot(x_data[x_data[:,0]==1,1], (x_data[x_data[:,0]==1,:] @ w_sample)+b_sample, 'r-')\n",
    "ax[1].set(xlabel=\"Terrain Ruggedness Index\",\n",
    "          ylabel=\"log GDP (2000)\",\n",
    "          title=\"African Nations\")\n",
    "\n",
    "plt.show()"
   ]
  },
  {
   "cell_type": "code",
   "execution_count": null,
   "metadata": {},
   "outputs": [],
   "source": []
  }
 ],
 "metadata": {
  "kernelspec": {
   "display_name": "Python (TFEnv conda)",
   "language": "python",
   "name": "tfenv"
  },
  "language_info": {
   "codemirror_mode": {
    "name": "ipython",
    "version": 3
   },
   "file_extension": ".py",
   "mimetype": "text/x-python",
   "name": "python",
   "nbconvert_exporter": "python",
   "pygments_lexer": "ipython3",
   "version": "3.6.8"
  }
 },
 "nbformat": 4,
 "nbformat_minor": 2
}
