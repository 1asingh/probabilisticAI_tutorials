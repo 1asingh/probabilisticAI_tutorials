{
 "cells": [
  {
   "cell_type": "markdown",
   "metadata": {},
   "source": [
    "<img src=\"simple_pyro_exercise.png\"/>"
   ]
  },
  {
   "cell_type": "code",
   "execution_count": 42,
   "metadata": {},
   "outputs": [],
   "source": [
    "import numpy as np\n",
    "import torch\n",
    "from torch.distributions import constraints\n",
    "import matplotlib.pyplot as plt\n",
    "\n",
    "import pyro\n",
    "from pyro.distributions import Normal, Gamma, MultivariateNormal\n",
    "from pyro.infer import SVI, Trace_ELBO\n",
    "from pyro.optim import Adam\n",
    "import pyro.optim as optim"
   ]
  },
  {
   "cell_type": "markdown",
   "metadata": {},
   "source": [
    "## Generate some data"
   ]
  },
  {
   "cell_type": "code",
   "execution_count": 43,
   "metadata": {},
   "outputs": [],
   "source": [
    "# Sample data\n",
    "np.random.seed(123)\n",
    "N = 100\n",
    "correct_mean = 5\n",
    "correct_precision = 1\n",
    "data = torch.tensor(np.random.normal(loc=correct_mean, scale=np.sqrt(1./correct_precision), size=N), dtype=torch.float)\n"
   ]
  },
  {
   "cell_type": "markdown",
   "metadata": {},
   "source": [
    "## Our model specification"
   ]
  },
  {
   "cell_type": "code",
   "execution_count": 44,
   "metadata": {},
   "outputs": [],
   "source": [
    "def model(data):\n",
    "    gamma = pyro.sample(\"gamma\", Gamma(torch.tensor(1.), torch.tensor(1.)))\n",
    "    mu = pyro.sample(\"mu\", Normal(torch.zeros(1), torch.tensor(10000.0)))\n",
    "    with pyro.plate(\"data\", len(data)):\n",
    "        pyro.sample(\"x\", Normal(loc=mu, scale=torch.sqrt(1. / gamma)), obs=data)"
   ]
  },
  {
   "cell_type": "markdown",
   "metadata": {},
   "source": [
    "## Our guide specification"
   ]
  },
  {
   "cell_type": "code",
   "execution_count": 45,
   "metadata": {},
   "outputs": [],
   "source": [
    "def guide(data=None):\n",
    "    rate = pyro.param(\"rate\", torch.tensor(1.))\n",
    "    conc = pyro.param(\"conc\", torch.tensor(1.))\n",
    "    pyro.sample(\"gamma\", Gamma(rate, conc))\n",
    "\n",
    "    mu_mean = pyro.param(\"mu_mean\", torch.tensor(0.))\n",
    "    mu_scale = pyro.param(\"mu_scale\", torch.tensor(1.))\n",
    "    pyro.sample(\"mu\", Normal(mu_mean, mu_scale))"
   ]
  },
  {
   "cell_type": "markdown",
   "metadata": {},
   "source": [
    "## Do learning"
   ]
  },
  {
   "cell_type": "code",
   "execution_count": 54,
   "metadata": {},
   "outputs": [
    {
     "name": "stdout",
     "output_type": "stream",
     "text": [
      "[epoch 000] average training loss: 365.6338\n",
      "[epoch 500] average training loss: 246.0335\n",
      "[epoch 1000] average training loss: 228.6856\n",
      "[epoch 1500] average training loss: 169.2543\n",
      "[epoch 2000] average training loss: 172.1755\n",
      "[epoch 2500] average training loss: 167.5593\n"
     ]
    }
   ],
   "source": [
    "# setup the optimizer\n",
    "adam_args = {\"lr\": 0.01}\n",
    "optimizer = Adam(adam_args)\n",
    "\n",
    "pyro.clear_param_store()\n",
    "svi = SVI(model, guide, optimizer, loss=Trace_ELBO(), num_samples=10)\n",
    "train_elbo = []\n",
    "# training loop\n",
    "for epoch in range(3000):\n",
    "    loss = svi.step(data)\n",
    "    train_elbo.append(-loss)\n",
    "    if (epoch % 500) == 0:\n",
    "        print(\"[epoch %03d] average training loss: %.4f\" % (epoch, loss))"
   ]
  },
  {
   "cell_type": "code",
   "execution_count": 55,
   "metadata": {},
   "outputs": [
    {
     "name": "stdout",
     "output_type": "stream",
     "text": [
      "rate tensor(1.8781, requires_grad=True)\n",
      "conc tensor(2.2389, requires_grad=True)\n",
      "mu_mean tensor(5.0064, requires_grad=True)\n",
      "mu_scale tensor(0.0977, requires_grad=True)\n"
     ]
    }
   ],
   "source": [
    "for name, value in pyro.get_param_store().items():\n",
    "    print(name, pyro.param(name))"
   ]
  },
  {
   "cell_type": "code",
   "execution_count": 56,
   "metadata": {},
   "outputs": [
    {
     "data": {
      "image/png": "[encoded data removed]",
      "text/plain": [
       "<Figure size 432x288 with 1 Axes>"
      ]
     },
     "metadata": {
      "needs_background": "light"
     },
     "output_type": "display_data"
    }
   ],
   "source": [
    "plt.plot(range(len(train_elbo)), train_elbo)\n",
    "plt.xlabel(\"Number of iterations\")\n",
    "plt.ylabel(\"ELBO\")\n",
    "plt.show()"
   ]
  },
  {
   "cell_type": "code",
   "execution_count": null,
   "metadata": {},
   "outputs": [],
   "source": []
  }
 ],
 "metadata": {
  "kernelspec": {
   "display_name": "Python (TFEnv conda)",
   "language": "python",
   "name": "tfenv"
  },
  "language_info": {
   "codemirror_mode": {
    "name": "ipython",
    "version": 3
   },
   "file_extension": ".py",
   "mimetype": "text/x-python",
   "name": "python",
   "nbconvert_exporter": "python",
   "pygments_lexer": "ipython3",
   "version": "3.6.8"
  }
 },
 "nbformat": 4,
 "nbformat_minor": 2
}
